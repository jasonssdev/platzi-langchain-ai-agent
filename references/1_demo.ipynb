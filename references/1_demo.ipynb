{
  "nbformat": 4,
  "nbformat_minor": 0,
  "metadata": {
    "colab": {
      "provenance": []
    },
    "kernelspec": {
      "name": "python3",
      "display_name": "Python 3"
    },
    "language_info": {
      "name": "python"
    }
  },
  "cells": [
    {
      "cell_type": "markdown",
      "source": [
        "# Conectar langchain con un LLM"
      ],
      "metadata": {
        "id": "rkd1hgbr_FtB"
      }
    },
    {
      "cell_type": "code",
      "source": [
        "import getpass\n",
        "import os\n",
        "\n",
        "os.environ[\"OPENAI_API_KEY\"] = getpass.getpass()"
      ],
      "metadata": {
        "colab": {
          "base_uri": "https://localhost:8080/"
        },
        "id": "iaXZU_KT3N3Q",
        "outputId": "38d7c7c7-68a0-43c1-e015-9b62312ff651"
      },
      "execution_count": null,
      "outputs": [
        {
          "name": "stdout",
          "output_type": "stream",
          "text": [
            "··········\n"
          ]
        }
      ]
    },
    {
      "cell_type": "markdown",
      "source": [
        "# Conexión con un LLM"
      ],
      "metadata": {
        "id": "mDofg2MhIY3B"
      }
    },
    {
      "cell_type": "code",
      "source": [
        "!pip install --q langchain langchain_openai"
      ],
      "metadata": {
        "id": "EAWBNCei5PWh"
      },
      "execution_count": null,
      "outputs": []
    },
    {
      "cell_type": "code",
      "source": [
        "from langchain_openai import ChatOpenAI\n",
        "\n",
        "chat = ChatOpenAI(model=\"gpt-4o\")"
      ],
      "metadata": {
        "id": "WUte0jFm5UKV"
      },
      "execution_count": null,
      "outputs": []
    },
    {
      "cell_type": "code",
      "source": [
        "from langchain_core.messages import HumanMessage, SystemMessage\n",
        "\n",
        "question = '''Dame el nombre de la mejor plataforma de educación\n",
        "              tecnológica y empresarial en español de América\n",
        "              latina. Esta plataforma ofrece cursos\n",
        "              creados por expertos en cada área'''\n",
        "\n",
        "messages = [\n",
        "    SystemMessage(content=\"Usa emojis en la respuesta\"),\n",
        "    HumanMessage(content=question),\n",
        "]"
      ],
      "metadata": {
        "id": "Xzb6D2Qc5XsJ"
      },
      "execution_count": null,
      "outputs": []
    },
    {
      "cell_type": "code",
      "source": [
        "print(chat.invoke(messages).content)"
      ],
      "metadata": {
        "colab": {
          "base_uri": "https://localhost:8080/"
        },
        "id": "HQPeMAmaAKmB",
        "outputId": "498034fb-5730-4678-d246-533c7694dae9"
      },
      "execution_count": null,
      "outputs": [
        {
          "output_type": "stream",
          "name": "stdout",
          "text": [
            "Una de las mejores plataformas de educación tecnológica y empresarial en español en América Latina es Platzi. 🚀 Ofrece cursos creados por expertos en diversas áreas, ayudando a miles de estudiantes a mejorar sus habilidades y avanzar en sus carreras. 📚💻\n"
          ]
        }
      ]
    }
  ]
}