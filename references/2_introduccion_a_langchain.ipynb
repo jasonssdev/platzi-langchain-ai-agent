{
  "cells": [
    {
      "cell_type": "markdown",
      "metadata": {
        "id": "6NIisvq2_YG0"
      },
      "source": [
        "## Hugging Face"
      ]
    },
    {
      "cell_type": "code",
      "execution_count": null,
      "metadata": {},
      "outputs": [],
      "source": []
    },
    {
      "cell_type": "code",
      "execution_count": null,
      "metadata": {
        "id": "A0rsXMjt944C"
      },
      "outputs": [],
      "source": [
        "%pip install --upgrade transformers langchain-huggingface"
      ]
    },
    {
      "cell_type": "code",
      "execution_count": null,
      "metadata": {
        "id": "uP_NH4DR_WMi"
      },
      "outputs": [],
      "source": [
        "from langchain_huggingface.llms import HuggingFacePipeline\n",
        "\n",
        "hf = HuggingFacePipeline.from_model_id(\n",
        "    model_id=\"gpt2\",\n",
        "    task=\"text-generation\",\n",
        "    pipeline_kwargs={\"max_new_tokens\": 10},\n",
        ")"
      ]
    },
    {
      "cell_type": "code",
      "execution_count": null,
      "metadata": {
        "id": "ddH-Ut1s_cZq"
      },
      "outputs": [],
      "source": [
        "question = \"What is electroencephalography?\"\n",
        "hf.invoke(question)"
      ]
    }
  ],
  "metadata": {
    "colab": {
      "provenance": []
    },
    "kernelspec": {
      "display_name": "ai2-py3.12",
      "language": "python",
      "name": "python3"
    },
    "language_info": {
      "name": "python",
      "version": "3.12.2"
    }
  },
  "nbformat": 4,
  "nbformat_minor": 0
}
