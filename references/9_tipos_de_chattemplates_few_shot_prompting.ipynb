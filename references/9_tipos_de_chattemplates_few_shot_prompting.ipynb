{
  "cells": [
    {
      "cell_type": "code",
      "execution_count": null,
      "metadata": {
        "id": "xkf7a5mVDKyS"
      },
      "outputs": [],
      "source": [
        "import getpass\n",
        "import os\n",
        "\n",
        "if \"OPENAI_API_KEY\" not in os.environ:\n",
        "    os.environ[\"OPENAI_API_KEY\"] = getpass.getpass(\"Enter your OpenAI API key: \")"
      ]
    },
    {
      "cell_type": "code",
      "execution_count": null,
      "metadata": {
        "id": "PvfuS1cCDLGS"
      },
      "outputs": [],
      "source": [
        "!pip install -qU langchain-openai langchain"
      ]
    },
    {
      "cell_type": "code",
      "execution_count": null,
      "metadata": {
        "id": "9zEuI4i2DNC9"
      },
      "outputs": [],
      "source": [
        "from langchain_openai import ChatOpenAI"
      ]
    },
    {
      "cell_type": "code",
      "execution_count": null,
      "metadata": {
        "id": "GsOMu2WTC9LT"
      },
      "outputs": [],
      "source": [
        "model = ChatOpenAI(model=\"gpt-4o\")"
      ]
    },
    {
      "cell_type": "code",
      "execution_count": null,
      "metadata": {
        "id": "wkEc1HWtDGXG"
      },
      "outputs": [],
      "source": [
        "model.invoke('Cuanto es 2 🦜 9').content"
      ]
    },
    {
      "cell_type": "code",
      "execution_count": null,
      "metadata": {
        "id": "pSQ3VCvLDPR-"
      },
      "outputs": [],
      "source": [
        "from langchain_core.prompts import ChatPromptTemplate, FewShotChatMessagePromptTemplate\n",
        "\n",
        "examples = [{'input': '2 🦜 2', 'output': '4'},\n",
        "            {'input': '2 🦜 3', 'output': '5'}]"
      ]
    },
    {
      "cell_type": "code",
      "execution_count": null,
      "metadata": {
        "id": "RInJetpwDRzA"
      },
      "outputs": [],
      "source": [
        "example_prompt = ChatPromptTemplate(\n",
        "    [('human', '{input}'),\n",
        "     ('ai', '{output}')]\n",
        ")"
      ]
    },
    {
      "cell_type": "code",
      "execution_count": null,
      "metadata": {
        "id": "ZhzUHUY4DSvX"
      },
      "outputs": [],
      "source": [
        "few_shot_prompt = FewShotChatMessagePromptTemplate(\n",
        "    example_prompt=example_prompt,\n",
        "    examples=examples\n",
        ")"
      ]
    },
    {
      "cell_type": "code",
      "execution_count": null,
      "metadata": {
        "id": "QMqiDubRDUpG"
      },
      "outputs": [],
      "source": [
        "print(few_shot_prompt.invoke({}).to_messages)"
      ]
    },
    {
      "cell_type": "code",
      "execution_count": null,
      "metadata": {
        "id": "FyVDJCPmDWQ6"
      },
      "outputs": [],
      "source": [
        "main_prompt = ChatPromptTemplate.from_messages(\n",
        "    [('system', 'Eres un mago de las matematicas.'),\n",
        "     few_shot_prompt,\n",
        "     ('human', '{input}')\n",
        "     ]\n",
        ")"
      ]
    },
    {
      "cell_type": "code",
      "execution_count": null,
      "metadata": {
        "id": "yqdnUa5_DX9z"
      },
      "outputs": [],
      "source": [
        "chain = main_prompt | model"
      ]
    },
    {
      "cell_type": "code",
      "execution_count": null,
      "metadata": {
        "id": "s5VhyRfKDZdT"
      },
      "outputs": [],
      "source": [
        "chain.invoke({'input': 'Cuanto es 2 🦜 9'}).content"
      ]
    }
  ],
  "metadata": {
    "colab": {
      "provenance": []
    },
    "kernelspec": {
      "display_name": "Python 3",
      "name": "python3"
    },
    "language_info": {
      "name": "python"
    }
  },
  "nbformat": 4,
  "nbformat_minor": 0
}
