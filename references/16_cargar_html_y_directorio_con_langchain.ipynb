{
  "cells": [
    {
      "cell_type": "markdown",
      "metadata": {
        "id": "9O8XEm5DJC4T"
      },
      "source": [
        "# Loader HTML y Directorio"
      ]
    },
    {
      "cell_type": "code",
      "execution_count": null,
      "metadata": {
        "id": "SUj3uwd5I_ac"
      },
      "outputs": [],
      "source": [
        "%pip install bs4"
      ]
    },
    {
      "cell_type": "code",
      "execution_count": null,
      "metadata": {
        "id": "yTvgLOaSJF3M"
      },
      "outputs": [],
      "source": [
        "from langchain_community.document_loaders import BSHTMLLoader\n",
        "\n",
        "file_path = '/content/example.html'\n",
        "\n",
        "loader = BSHTMLLoader(file_path)\n",
        "data = loader.load()\n",
        "\n",
        "print(data)"
      ]
    },
    {
      "cell_type": "code",
      "execution_count": null,
      "metadata": {
        "id": "rg3204b5JJ9f"
      },
      "outputs": [],
      "source": [
        "%pip install -qU langchain-text-splitters"
      ]
    },
    {
      "cell_type": "code",
      "execution_count": null,
      "metadata": {
        "id": "lrTyaXU4JLf9"
      },
      "outputs": [],
      "source": [
        "from langchain_text_splitters import RecursiveCharacterTextSplitter"
      ]
    },
    {
      "cell_type": "code",
      "execution_count": null,
      "metadata": {
        "id": "vY2G9C0rJMuq"
      },
      "outputs": [],
      "source": [
        "with open('example.txt') as f:\n",
        "  state_of_the_union = f.read()"
      ]
    },
    {
      "cell_type": "code",
      "execution_count": null,
      "metadata": {
        "id": "R98VYl9KJOC9"
      },
      "outputs": [],
      "source": [
        "text_splitter = RecursiveCharacterTextSplitter(\n",
        "    chunk_size=10,\n",
        "    chunk_overlap=2,\n",
        "    length_function=len,\n",
        "    is_separator_regex=False,\n",
        ")"
      ]
    },
    {
      "cell_type": "code",
      "execution_count": null,
      "metadata": {
        "id": "2YBd_0R7JPXP"
      },
      "outputs": [],
      "source": [
        "text = text_splitter.create_documents([state_of_the_union])"
      ]
    },
    {
      "cell_type": "code",
      "execution_count": null,
      "metadata": {
        "id": "61CR5hTkJQus"
      },
      "outputs": [],
      "source": [
        "text"
      ]
    },
    {
      "cell_type": "code",
      "execution_count": null,
      "metadata": {
        "id": "6OGx2sygJR-U"
      },
      "outputs": [],
      "source": [
        "text[0]"
      ]
    },
    {
      "cell_type": "code",
      "execution_count": null,
      "metadata": {
        "id": "jGq-5FR5JTgW"
      },
      "outputs": [],
      "source": [
        "text[1]"
      ]
    }
  ],
  "metadata": {
    "colab": {
      "provenance": []
    },
    "kernelspec": {
      "display_name": "Python 3",
      "name": "python3"
    },
    "language_info": {
      "name": "python"
    }
  },
  "nbformat": 4,
  "nbformat_minor": 0
}
