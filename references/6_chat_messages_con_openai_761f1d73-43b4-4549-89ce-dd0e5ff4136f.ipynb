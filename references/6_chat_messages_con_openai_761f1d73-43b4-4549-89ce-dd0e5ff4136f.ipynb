{
  "nbformat": 4,
  "nbformat_minor": 0,
  "metadata": {
    "colab": {
      "provenance": []
    },
    "kernelspec": {
      "name": "python3",
      "display_name": "Python 3"
    },
    "language_info": {
      "name": "python"
    }
  },
  "cells": [
    {
      "cell_type": "markdown",
      "source": [
        "# Chat Models"
      ],
      "metadata": {
        "id": "ftWu1KHIBly_"
      }
    },
    {
      "cell_type": "code",
      "source": [
        "!pip install -qU langchain-openai"
      ],
      "metadata": {
        "id": "sWcpr423Bla6"
      },
      "execution_count": null,
      "outputs": []
    },
    {
      "cell_type": "code",
      "execution_count": null,
      "metadata": {
        "id": "6mmjWyA-BXM2"
      },
      "outputs": [],
      "source": [
        "import getpass\n",
        "import os\n",
        "\n",
        "if \"OPENAI_API_KEY\" not in os.environ:\n",
        "    os.environ[\"OPENAI_API_KEY\"] = getpass.getpass(\"Enter your OpenAI API key: \")"
      ]
    },
    {
      "cell_type": "code",
      "source": [
        "from langchain_openai import ChatOpenAI\n",
        "\n",
        "model = ChatOpenAI(model=\"gpt-4o\")"
      ],
      "metadata": {
        "id": "FOIsvkh9BpA5"
      },
      "execution_count": null,
      "outputs": []
    },
    {
      "cell_type": "code",
      "source": [
        "from langchain_core.messages import AIMessage, HumanMessage, SystemMessage\n",
        "\n",
        "messages = [ SystemMessage(content='Eres un asistente útil.'),\n",
        "            HumanMessage(content='Me ayudas a organizar las tareas del dia?'),\n",
        "             AIMessage(content='Claro! Que tareas necesitas completar hoy?'),\n",
        "             HumanMessage(content='Tengo que enviar un correo importante, hacer ejercicio y estudiar para un examen'),\n",
        "             AIMessage(content='Aquí tienes tu lista de tareas: 1. Enviar correo. 2. Hacer ejercicio. 3. Estudiar para el examen')\n",
        "]\n"
      ],
      "metadata": {
        "id": "NyyL4N-iBqUZ"
      },
      "execution_count": null,
      "outputs": []
    },
    {
      "cell_type": "code",
      "source": [
        "response = model.invoke(messages)\n",
        "print(response)"
      ],
      "metadata": {
        "id": "St0xEnPJBrxp"
      },
      "execution_count": null,
      "outputs": []
    },
    {
      "cell_type": "code",
      "source": [
        "print(response.content)"
      ],
      "metadata": {
        "id": "MuyNJDbDBs7w"
      },
      "execution_count": null,
      "outputs": []
    },
    {
      "cell_type": "code",
      "source": [
        "from langchain_core.messages import trim_messages\n",
        "trim_messages(\n",
        "    messages,\n",
        "    max_tokens=100,\n",
        "    strategy='last',\n",
        "    token_counter=ChatOpenAI(model='gpt-4o'),\n",
        "    include_system = True\n",
        ")"
      ],
      "metadata": {
        "id": "BVdhWI10BuZP"
      },
      "execution_count": null,
      "outputs": []
    }
  ]
}