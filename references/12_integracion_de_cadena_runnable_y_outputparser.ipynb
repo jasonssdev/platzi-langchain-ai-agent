{
  "nbformat": 4,
  "nbformat_minor": 0,
  "metadata": {
    "colab": {
      "provenance": []
    },
    "kernelspec": {
      "name": "python3",
      "display_name": "Python 3"
    },
    "language_info": {
      "name": "python"
    }
  },
  "cells": [
    {
      "cell_type": "markdown",
      "source": [
        "# Integración de Cadenas en Proyectos : Runnable, OutputParser y Streaming"
      ],
      "metadata": {
        "id": "DpfLONDiFlEP"
      }
    },
    {
      "cell_type": "code",
      "execution_count": null,
      "metadata": {
        "id": "oHQSnqcSFSIl"
      },
      "outputs": [],
      "source": [
        "!pip install langchain"
      ]
    },
    {
      "cell_type": "code",
      "source": [
        "from langchain_core.runnables import RunnableLambda\n",
        "\n",
        "sequence = RunnableLambda(lambda x: x +1 ) | RunnableLambda(lambda x: x * 2 )"
      ],
      "metadata": {
        "id": "9GTWDdCUFmys"
      },
      "execution_count": null,
      "outputs": []
    },
    {
      "cell_type": "code",
      "source": [
        "sequence.invoke(10)"
      ],
      "metadata": {
        "id": "y2lNOUG7FosD"
      },
      "execution_count": null,
      "outputs": []
    },
    {
      "cell_type": "code",
      "source": [
        "sequence = RunnableLambda(lambda x: x +1 ) | {\n",
        "    'index_1' : RunnableLambda(lambda x: x * 2 ),\n",
        "    'index_2' : RunnableLambda(lambda x: x * 5 )\n",
        "}"
      ],
      "metadata": {
        "id": "oAPgW9qMFqNq"
      },
      "execution_count": null,
      "outputs": []
    },
    {
      "cell_type": "code",
      "source": [
        "sequence.invoke(10)"
      ],
      "metadata": {
        "id": "y5di-HbtFrlJ"
      },
      "execution_count": null,
      "outputs": []
    },
    {
      "cell_type": "code",
      "source": [
        "!pip install -qU langchain langchain_openai"
      ],
      "metadata": {
        "id": "IIOo61RLFs1K"
      },
      "execution_count": null,
      "outputs": []
    },
    {
      "cell_type": "code",
      "source": [
        "import getpass\n",
        "import os\n",
        "\n",
        "if \"OPENAI_API_KEY\" not in os.environ:\n",
        "    os.environ[\"OPENAI_API_KEY\"] = getpass.getpass(\"Enter your OpenAI API key: \")"
      ],
      "metadata": {
        "id": "aE7IqngwFunK"
      },
      "execution_count": null,
      "outputs": []
    },
    {
      "cell_type": "code",
      "source": [
        "from langchain_core.output_parsers import JsonOutputParser\n",
        "from langchain_core.prompts import PromptTemplate\n",
        "from langchain_openai import ChatOpenAI"
      ],
      "metadata": {
        "id": "pNyBuGHmFv2y"
      },
      "execution_count": null,
      "outputs": []
    },
    {
      "cell_type": "code",
      "source": [
        "model = ChatOpenAI()"
      ],
      "metadata": {
        "id": "_QQYD-mIFxxg"
      },
      "execution_count": null,
      "outputs": []
    },
    {
      "cell_type": "code",
      "source": [
        "joke_query = 'Tell me a joke'"
      ],
      "metadata": {
        "id": "WSOvHyTuFzPg"
      },
      "execution_count": null,
      "outputs": []
    },
    {
      "cell_type": "code",
      "source": [
        "parser = JsonOutputParser()"
      ],
      "metadata": {
        "id": "TVusM2bLF0m1"
      },
      "execution_count": null,
      "outputs": []
    },
    {
      "cell_type": "code",
      "source": [
        "prompt = PromptTemplate(\n",
        "    template = 'Answer the user query. \\n{format_instructions}\\n{query}',\n",
        "    input_variables = ['query'],\n",
        "    partial_variables = { 'format_instructions': parser.get_format_instructions()}\n",
        ")"
      ],
      "metadata": {
        "id": "pK7xjj2pF10n"
      },
      "execution_count": null,
      "outputs": []
    },
    {
      "cell_type": "code",
      "source": [
        "chain = prompt | model | parser"
      ],
      "metadata": {
        "id": "z4SoFw61F3Kw"
      },
      "execution_count": null,
      "outputs": []
    },
    {
      "cell_type": "code",
      "source": [
        "response = chain.invoke({\"query\": joke_query})"
      ],
      "metadata": {
        "id": "gTQnJjsUF49r"
      },
      "execution_count": null,
      "outputs": []
    },
    {
      "cell_type": "code",
      "source": [
        "import time\n",
        "for s in chain.stream({\"query\": joke_query}):\n",
        "  print(s)\n",
        "  time.sleep(0.3)"
      ],
      "metadata": {
        "id": "ujYj_071F6KJ"
      },
      "execution_count": null,
      "outputs": []
    },
    {
      "cell_type": "code",
      "source": [
        "chunks = []\n",
        "async for chunk in model.astream(joke_query):\n",
        "  chunks.append(chunk)\n",
        "  print(chunk.content, end='', flush=True)\n",
        "  time.sleep(0.3)"
      ],
      "metadata": {
        "id": "mR98aEOUF8jY"
      },
      "execution_count": null,
      "outputs": []
    }
  ]
}