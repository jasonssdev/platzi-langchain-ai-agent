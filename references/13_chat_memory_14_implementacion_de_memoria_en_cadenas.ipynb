{
  "nbformat": 4,
  "nbformat_minor": 0,
  "metadata": {
    "colab": {
      "provenance": []
    },
    "kernelspec": {
      "name": "python3",
      "display_name": "Python 3"
    },
    "language_info": {
      "name": "python"
    }
  },
  "cells": [
    {
      "cell_type": "markdown",
      "source": [
        "# Chat Memory"
      ],
      "metadata": {
        "id": "KDsoXo15GihH"
      }
    },
    {
      "cell_type": "code",
      "execution_count": null,
      "metadata": {
        "id": "kIoDua8TE0bE"
      },
      "outputs": [],
      "source": [
        "import getpass\n",
        "import os\n",
        "\n",
        "if \"OPENAI_API_KEY\" not in os.environ:\n",
        "    os.environ[\"OPENAI_API_KEY\"] = getpass.getpass(\"Enter your OpenAI API key: \")"
      ]
    },
    {
      "cell_type": "code",
      "source": [
        "!pip install langchain_openai langchain"
      ],
      "metadata": {
        "id": "0ljKSNtOGkIr"
      },
      "execution_count": null,
      "outputs": []
    },
    {
      "cell_type": "code",
      "source": [
        "from langchain_openai import ChatOpenAI\n",
        "from langchain_core.messages import HumanMessage\n",
        "\n",
        "model = ChatOpenAI(model=\"gpt-3.5-turbo\")"
      ],
      "metadata": {
        "id": "o8QcrqIxGliB"
      },
      "execution_count": null,
      "outputs": []
    },
    {
      "cell_type": "code",
      "source": [
        "model.invoke([HumanMessage(content='Hi! my name is bob')]).content"
      ],
      "metadata": {
        "id": "8ZggPz9cGnMY"
      },
      "execution_count": null,
      "outputs": []
    },
    {
      "cell_type": "code",
      "source": [
        "model.invoke([HumanMessage(content='What is my name?')]).content"
      ],
      "metadata": {
        "id": "a5ELQrCeGoSj"
      },
      "execution_count": null,
      "outputs": []
    },
    {
      "cell_type": "code",
      "source": [
        "from langchain_core.messages import AIMessage\n",
        "\n",
        "model.invoke(\n",
        "    [\n",
        "        HumanMessage(content=\"Hi! I'm Bob\"),\n",
        "        AIMessage(content=\"Hello Bob! How can I assist you today?\"),\n",
        "        HumanMessage(content=\"What's my name?\"),\n",
        "    ]\n",
        ").content"
      ],
      "metadata": {
        "id": "qGiOgGUBGpYg"
      },
      "execution_count": null,
      "outputs": []
    },
    {
      "cell_type": "code",
      "source": [
        "from langchain_core.chat_history import (\n",
        "    BaseChatMessageHistory,\n",
        "    InMemoryChatMessageHistory,\n",
        ")\n",
        "from langchain_core.runnables.history import RunnableWithMessageHistory"
      ],
      "metadata": {
        "id": "ACx2UF__Gq2p"
      },
      "execution_count": null,
      "outputs": []
    },
    {
      "cell_type": "code",
      "source": [
        "store = {}\n",
        "\n",
        "def get_session_history(session_id: str) -> BaseChatMessageHistory:\n",
        "  if session_id not in store:\n",
        "    store[session_id] = InMemoryChatMessageHistory()\n",
        "  return store[session_id]"
      ],
      "metadata": {
        "id": "mF87gejTGsSY"
      },
      "execution_count": null,
      "outputs": []
    },
    {
      "cell_type": "code",
      "source": [
        "with_message_history = RunnableWithMessageHistory(model, get_session_history)"
      ],
      "metadata": {
        "id": "gnzFMWoZGtY9"
      },
      "execution_count": null,
      "outputs": []
    },
    {
      "cell_type": "code",
      "source": [
        "config = {'configurable': {'session_id': 'abc2'}}"
      ],
      "metadata": {
        "id": "wDVTq0ntGurp"
      },
      "execution_count": null,
      "outputs": []
    },
    {
      "cell_type": "code",
      "source": [
        "response = with_message_history.invoke(\n",
        "    [HumanMessage(content='Hi! I am Bob')],\n",
        "     config=config\n",
        ")"
      ],
      "metadata": {
        "id": "o4OyCmTLGvzk"
      },
      "execution_count": null,
      "outputs": []
    },
    {
      "cell_type": "code",
      "source": [
        "response.content"
      ],
      "metadata": {
        "id": "NWUYL2uvGxOL"
      },
      "execution_count": null,
      "outputs": []
    },
    {
      "cell_type": "code",
      "source": [
        "response = with_message_history.invoke(\n",
        "    [HumanMessage(content='What is my name?')],\n",
        "     config=config\n",
        ")"
      ],
      "metadata": {
        "id": "z3rhTFqeGyab"
      },
      "execution_count": null,
      "outputs": []
    },
    {
      "cell_type": "code",
      "source": [
        "response.content"
      ],
      "metadata": {
        "id": "L2RE_Jd5GzjP"
      },
      "execution_count": null,
      "outputs": []
    },
    {
      "cell_type": "code",
      "source": [
        "store"
      ],
      "metadata": {
        "id": "VLEnvvUpG0rs"
      },
      "execution_count": null,
      "outputs": []
    },
    {
      "cell_type": "code",
      "source": [
        "response = with_message_history.invoke(\n",
        "    [HumanMessage(content='How are you?')],\n",
        "     config=config\n",
        ")"
      ],
      "metadata": {
        "id": "Gld3D8qpG1sV"
      },
      "execution_count": null,
      "outputs": []
    },
    {
      "cell_type": "code",
      "source": [
        "store"
      ],
      "metadata": {
        "id": "uvfVicsPG2ww"
      },
      "execution_count": null,
      "outputs": []
    },
    {
      "cell_type": "code",
      "source": [
        "config = {'configurable': {'session_id': 'abc3'}}"
      ],
      "metadata": {
        "id": "kMZeUpYDG4AC"
      },
      "execution_count": null,
      "outputs": []
    },
    {
      "cell_type": "code",
      "source": [
        "response = with_message_history.invoke(\n",
        "    [HumanMessage(content='What is my name?')],\n",
        "     config=config\n",
        ")\n",
        "response"
      ],
      "metadata": {
        "id": "yWVmN8L-G5qm"
      },
      "execution_count": null,
      "outputs": []
    },
    {
      "cell_type": "code",
      "source": [
        "response = with_message_history.invoke(\n",
        "    [HumanMessage(content='Hi! I am Carli')],\n",
        "     config=config\n",
        ")\n",
        "response.content"
      ],
      "metadata": {
        "id": "gb1oQ5oVG619"
      },
      "execution_count": null,
      "outputs": []
    },
    {
      "cell_type": "code",
      "source": [
        "response = with_message_history.invoke(\n",
        "    [HumanMessage(content='What is my name?')],\n",
        "     config=config\n",
        ")\n",
        "response"
      ],
      "metadata": {
        "id": "LV0lE-ZWG8HA"
      },
      "execution_count": null,
      "outputs": []
    },
    {
      "cell_type": "code",
      "source": [
        "store"
      ],
      "metadata": {
        "id": "52KBtCLbG9lf"
      },
      "execution_count": null,
      "outputs": []
    },
    {
      "cell_type": "code",
      "source": [
        "from langchain_core.prompts import ChatPromptTemplate, MessagesPlaceholder\n",
        "\n",
        "prompt = ChatPromptTemplate.from_messages(\n",
        "    [\n",
        "        (\n",
        "            'system', 'You are a helpful assistant. Answer all question to the best of your abity.'\n",
        "        ),\n",
        "        MessagesPlaceholder(variable_name='messages')\n",
        "\n",
        "    ]\n",
        ")"
      ],
      "metadata": {
        "id": "-nv8K3nYG-jw"
      },
      "execution_count": null,
      "outputs": []
    },
    {
      "cell_type": "code",
      "source": [
        "chain  = prompt | model"
      ],
      "metadata": {
        "id": "a0la0O2dHAE_"
      },
      "execution_count": null,
      "outputs": []
    },
    {
      "cell_type": "code",
      "source": [
        "response = chain.invoke(\n",
        "    {\n",
        "        'messages': [HumanMessage(content='Hi! I am Bob')]\n",
        "    }\n",
        ")\n",
        "response.content"
      ],
      "metadata": {
        "id": "9_HW88wjHBNG"
      },
      "execution_count": null,
      "outputs": []
    },
    {
      "cell_type": "code",
      "source": [
        "response = chain.invoke(\n",
        "    {\n",
        "        'messages': [HumanMessage(content='What is your name?')]\n",
        "    }\n",
        ")\n",
        "response.content"
      ],
      "metadata": {
        "id": "CUyPyKfsHCi3"
      },
      "execution_count": null,
      "outputs": []
    },
    {
      "cell_type": "code",
      "source": [
        "with_message_history = RunnableWithMessageHistory(chain,get_session_history)"
      ],
      "metadata": {
        "id": "miyoFdA5HDvX"
      },
      "execution_count": null,
      "outputs": []
    },
    {
      "cell_type": "code",
      "source": [
        "config = { 'configurable': {'session_id': 'abc5'}}"
      ],
      "metadata": {
        "id": "UIu5xwIKHExK"
      },
      "execution_count": null,
      "outputs": []
    },
    {
      "cell_type": "code",
      "source": [
        "response = with_message_history.invoke(\n",
        "    [HumanMessage(content='What is your name?')],\n",
        "    config=config\n",
        ")\n",
        "response.content"
      ],
      "metadata": {
        "id": "UJp03AXuHFpn"
      },
      "execution_count": null,
      "outputs": []
    },
    {
      "cell_type": "code",
      "source": [
        "response = with_message_history.invoke(\n",
        "    [HumanMessage(content='Hi! I am Bob')],\n",
        "    config=config\n",
        ")\n",
        "response.content"
      ],
      "metadata": {
        "id": "LTuAMaWHHGqV"
      },
      "execution_count": null,
      "outputs": []
    }
  ]
}