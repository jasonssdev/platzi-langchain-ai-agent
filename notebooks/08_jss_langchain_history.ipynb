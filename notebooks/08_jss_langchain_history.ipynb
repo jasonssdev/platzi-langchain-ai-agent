{
 "cells": [
  {
   "cell_type": "code",
   "execution_count": 1,
   "id": "c5efc2b4",
   "metadata": {},
   "outputs": [],
   "source": [
    "from langchain_openai import ChatOpenAI\n",
    "from src.config.config import settings"
   ]
  },
  {
   "cell_type": "code",
   "execution_count": 2,
   "id": "5c73a1f6",
   "metadata": {},
   "outputs": [],
   "source": [
    "api_key = settings['openai']\n",
    "model = 'gpt-4o-mini'\n",
    "llm = ChatOpenAI(api_key=api_key,\n",
    "                model=model)"
   ]
  },
  {
   "cell_type": "code",
   "execution_count": 3,
   "id": "5516e5d1",
   "metadata": {},
   "outputs": [],
   "source": [
    "from langchain.schema import AIMessage, HumanMessage, SystemMessage\n"
   ]
  },
  {
   "cell_type": "code",
   "execution_count": 4,
   "id": "9dd574e0",
   "metadata": {},
   "outputs": [],
   "source": [
    "chat_history = []\n",
    "if not chat_history:\n",
    "    system_message = SystemMessage(content='Eres un asistente útil')\n",
    "    chat_history.append(system_message)"
   ]
  },
  {
   "cell_type": "code",
   "execution_count": 12,
   "id": "07aa394a",
   "metadata": {},
   "outputs": [
    {
     "data": {
      "text/plain": [
       "'Eres un asistente útil'"
      ]
     },
     "execution_count": 12,
     "metadata": {},
     "output_type": "execute_result"
    }
   ],
   "source": [
    "chat_history[0].content"
   ]
  },
  {
   "cell_type": "code",
   "execution_count": 13,
   "id": "16177a75",
   "metadata": {},
   "outputs": [],
   "source": [
    "query = input('Haz una pregunta: ')\n",
    "chat_history.append(HumanMessage(content=query))\n",
    "\n",
    "response = llm.invoke(chat_history).content\n",
    "chat_history.append(AIMessage(content=response))"
   ]
  },
  {
   "cell_type": "code",
   "execution_count": 15,
   "id": "cb8f954b",
   "metadata": {},
   "outputs": [
    {
     "name": "stdout",
     "output_type": "stream",
     "text": [
      "Eres un asistente útil\n",
      "hola, como estas?\n",
      "¡Hola! Estoy aquí y listo para ayudarte. ¿En qué puedo asistirte hoy?\n"
     ]
    }
   ],
   "source": [
    "for message in chat_history:\n",
    "    print(message.content)"
   ]
  },
  {
   "cell_type": "code",
   "execution_count": null,
   "id": "e479b0df",
   "metadata": {},
   "outputs": [],
   "source": []
  }
 ],
 "metadata": {
  "kernelspec": {
   "display_name": "ai-py3.12",
   "language": "python",
   "name": "python3"
  },
  "language_info": {
   "codemirror_mode": {
    "name": "ipython",
    "version": 3
   },
   "file_extension": ".py",
   "mimetype": "text/x-python",
   "name": "python",
   "nbconvert_exporter": "python",
   "pygments_lexer": "ipython3",
   "version": "3.11.12"
  }
 },
 "nbformat": 4,
 "nbformat_minor": 5
}
