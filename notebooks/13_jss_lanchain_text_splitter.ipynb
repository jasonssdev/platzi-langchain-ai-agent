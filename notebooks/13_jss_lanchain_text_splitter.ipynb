{
 "cells": [
  {
   "cell_type": "code",
   "execution_count": 1,
   "id": "e24b14fd",
   "metadata": {},
   "outputs": [],
   "source": [
    "from langchain_openai import ChatOpenAI\n",
    "from src.config.config import settings"
   ]
  },
  {
   "cell_type": "code",
   "execution_count": null,
   "id": "bec2cd6e",
   "metadata": {},
   "outputs": [],
   "source": [
    "from src.config.paths import TXTAI_FILE\n"
   ]
  },
  {
   "cell_type": "code",
   "execution_count": 3,
   "id": "55595ec4",
   "metadata": {},
   "outputs": [],
   "source": [
    "api_key = settings['openai']\n",
    "model = 'gpt-4o-mini'\n",
    "llm = ChatOpenAI(api_key=api_key,\n",
    "                model=model)"
   ]
  },
  {
   "cell_type": "code",
   "execution_count": 4,
   "id": "981119ac",
   "metadata": {},
   "outputs": [],
   "source": [
    "from langchain_text_splitters import RecursiveCharacterTextSplitter"
   ]
  },
  {
   "cell_type": "code",
   "execution_count": 7,
   "id": "724e6eb8",
   "metadata": {},
   "outputs": [],
   "source": [
    "file_path = TXTAI_FILE"
   ]
  },
  {
   "cell_type": "code",
   "execution_count": 8,
   "id": "7aea23f4",
   "metadata": {},
   "outputs": [],
   "source": [
    "with open(file_path) as f:\n",
    "    state_of_the_union = f.read()"
   ]
  },
  {
   "cell_type": "code",
   "execution_count": 14,
   "id": "737a5d38",
   "metadata": {},
   "outputs": [],
   "source": [
    "text_splitter = RecursiveCharacterTextSplitter(\n",
    "    chunk_size=100,\n",
    "    chunk_overlap=20,\n",
    "    length_function=len,\n",
    "    is_separator_regex=False,\n",
    ")"
   ]
  },
  {
   "cell_type": "code",
   "execution_count": 15,
   "id": "555237a2",
   "metadata": {},
   "outputs": [],
   "source": [
    "text = text_splitter.create_documents([state_of_the_union])"
   ]
  },
  {
   "cell_type": "code",
   "execution_count": 16,
   "id": "39108114",
   "metadata": {},
   "outputs": [
    {
     "data": {
      "text/plain": [
       "[Document(metadata={}, page_content='Understanding Artificial Intelligence and Its Impact on Humanity\\nIntroduction'),\n",
       " Document(metadata={}, page_content='Artificial  Intelligence  (AI)  is  the  branch  of  computer  science  focused  on  building'),\n",
       " Document(metadata={}, page_content='on  building  systems  capable  of'),\n",
       " Document(metadata={}, page_content='performing tasks that typically require human intelligence. These tasks include learning,'),\n",
       " Document(metadata={}, page_content='include learning, reasoning,'),\n",
       " Document(metadata={}, page_content='problem-solving, understanding language, and perceiving the environment.'),\n",
       " Document(metadata={}, page_content='What Is Artificial Intelligence?'),\n",
       " Document(metadata={}, page_content='At  its  core,  AI  refers  to  the  development  of  algorithms  and  models  that  allow'),\n",
       " Document(metadata={}, page_content='that  allow  machines  to  mimic  cognitive'),\n",
       " Document(metadata={}, page_content='functions.  These  systems  are  designed  to  process  vast  amounts  of  data,  identify'),\n",
       " Document(metadata={}, page_content='data,  identify  patterns,  and  make'),\n",
       " Document(metadata={}, page_content='decisions with minimal human intervention. AI can be categorized into narrow AI (specialized in a'),\n",
       " Document(metadata={}, page_content='(specialized in a single task)'),\n",
       " Document(metadata={}, page_content='and general AI (a theoretical form of AI that can perform any intellectual task a human can do).'),\n",
       " Document(metadata={}, page_content='Real-World Applications\\nAI is already transforming multiple sectors:'),\n",
       " Document(metadata={}, page_content='- Healthcare: Early disease detection, personalized treatment, and robotic surgeries.'),\n",
       " Document(metadata={}, page_content='- Finance: Fraud detection, risk analysis, and algorithmic trading.'),\n",
       " Document(metadata={}, page_content='- Transportation: Self-driving vehicles and traffic management systems.'),\n",
       " Document(metadata={}, page_content='- Customer Service: Virtual assistants and AI chatbots improving user experiences.'),\n",
       " Document(metadata={}, page_content='Benefits for Humanity\\nThe potential benefits of AI are vast:'),\n",
       " Document(metadata={}, page_content='- Efficiency: Automating routine tasks increases productivity and frees up human creativity.'),\n",
       " Document(metadata={}, page_content='- Accessibility: AI tools can break language barriers and provide personalized education.'),\n",
       " Document(metadata={}, page_content='- Safety: Predictive analytics in disaster response and public safety.'),\n",
       " Document(metadata={}, page_content='- Scientific Progress: Accelerated research in fields like genomics, climate science, and renewable'),\n",
       " Document(metadata={}, page_content='and renewable energy.'),\n",
       " Document(metadata={}, page_content='Challenges and Considerations'),\n",
       " Document(metadata={}, page_content='While  promising,  AI  raises  ethical  concerns  such  as  privacy,  algorithmic  bias,  job'),\n",
       " Document(metadata={}, page_content='bias,  job  displacement,  and  the'),\n",
       " Document(metadata={}, page_content=\"potential  for  misuse.  It's  essential  to  ensure  that  AI  systems  are  transparent,  fair,\"),\n",
       " Document(metadata={}, page_content='fair,  and  aligned  with  human'),\n",
       " Document(metadata={}, page_content='Understanding Artificial Intelligence and Its Impact on Humanity\\nvalues.\\nConclusion'),\n",
       " Document(metadata={}, page_content='Artificial Intelligence is not just a futuristic concept - it is reshaping the world today. If'),\n",
       " Document(metadata={}, page_content='the world today. If guided responsibly, AI'),\n",
       " Document(metadata={}, page_content='can be one of the most powerful tools to advance human well-being and solve global challenges.')]"
      ]
     },
     "execution_count": 16,
     "metadata": {},
     "output_type": "execute_result"
    }
   ],
   "source": [
    "text"
   ]
  },
  {
   "cell_type": "code",
   "execution_count": 17,
   "id": "c9da080e",
   "metadata": {},
   "outputs": [
    {
     "data": {
      "text/plain": [
       "Document(metadata={}, page_content='Understanding Artificial Intelligence and Its Impact on Humanity\\nIntroduction')"
      ]
     },
     "execution_count": 17,
     "metadata": {},
     "output_type": "execute_result"
    }
   ],
   "source": [
    "text[0]"
   ]
  },
  {
   "cell_type": "code",
   "execution_count": 18,
   "id": "041f5a18",
   "metadata": {},
   "outputs": [
    {
     "data": {
      "text/plain": [
       "Document(metadata={}, page_content='Artificial  Intelligence  (AI)  is  the  branch  of  computer  science  focused  on  building')"
      ]
     },
     "execution_count": 18,
     "metadata": {},
     "output_type": "execute_result"
    }
   ],
   "source": [
    "text[1]"
   ]
  },
  {
   "cell_type": "code",
   "execution_count": 19,
   "id": "f9f3ec7b",
   "metadata": {},
   "outputs": [
    {
     "data": {
      "text/plain": [
       "Document(metadata={}, page_content='on  building  systems  capable  of')"
      ]
     },
     "execution_count": 19,
     "metadata": {},
     "output_type": "execute_result"
    }
   ],
   "source": [
    "text[2]"
   ]
  },
  {
   "cell_type": "code",
   "execution_count": null,
   "id": "c1fd8e71",
   "metadata": {},
   "outputs": [],
   "source": []
  }
 ],
 "metadata": {
  "kernelspec": {
   "display_name": "ai-py3.12",
   "language": "python",
   "name": "python3"
  },
  "language_info": {
   "codemirror_mode": {
    "name": "ipython",
    "version": 3
   },
   "file_extension": ".py",
   "mimetype": "text/x-python",
   "name": "python",
   "nbconvert_exporter": "python",
   "pygments_lexer": "ipython3",
   "version": "3.11.12"
  }
 },
 "nbformat": 4,
 "nbformat_minor": 5
}
