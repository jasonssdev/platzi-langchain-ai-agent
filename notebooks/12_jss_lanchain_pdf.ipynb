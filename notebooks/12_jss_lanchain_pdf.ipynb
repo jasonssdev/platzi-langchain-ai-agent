{
 "cells": [
  {
   "cell_type": "code",
   "execution_count": null,
   "id": "94f2c47c",
   "metadata": {},
   "outputs": [],
   "source": [
    "from langchain_openai import ChatOpenAI\n",
    "from src.config.config import settings"
   ]
  },
  {
   "cell_type": "code",
   "execution_count": 30,
   "id": "97afeef0",
   "metadata": {},
   "outputs": [],
   "source": [
    "from src.config.paths import WEBAI_FILE, CSVAI_FILE, PDFAI_FILE, TXTAI_FILE\n"
   ]
  },
  {
   "cell_type": "code",
   "execution_count": 2,
   "id": "bca19b17",
   "metadata": {},
   "outputs": [],
   "source": [
    "api_key = settings['openai']\n",
    "model = 'gpt-4o-mini'\n",
    "llm = ChatOpenAI(api_key=api_key,\n",
    "                model=model)"
   ]
  },
  {
   "cell_type": "code",
   "execution_count": 31,
   "id": "ea367aac",
   "metadata": {},
   "outputs": [],
   "source": [
    "file_path = PDFAI_FILE"
   ]
  },
  {
   "cell_type": "code",
   "execution_count": 4,
   "id": "62ea3e6b",
   "metadata": {},
   "outputs": [],
   "source": [
    "from langchain_community.document_loaders import PyPDFLoader\n"
   ]
  },
  {
   "cell_type": "code",
   "execution_count": null,
   "id": "b591385d",
   "metadata": {},
   "outputs": [
    {
     "name": "stderr",
     "output_type": "stream",
     "text": [
      "/Users/jasonssdev/opt/anaconda3/envs/ai-py3.12/lib/python3.11/site-packages/pypdf/_crypt_providers/_cryptography.py:32: CryptographyDeprecationWarning: ARC4 has been moved to cryptography.hazmat.decrepit.ciphers.algorithms.ARC4 and will be removed from cryptography.hazmat.primitives.ciphers.algorithms in 48.0.0.\n",
      "  from cryptography.hazmat.primitives.ciphers.algorithms import AES, ARC4\n"
     ]
    }
   ],
   "source": [
    "loader = PyPDFLoader(file_path)\n",
    "pages = []\n",
    "async for page in loader.alazy_load():\n",
    "    pages.append(page)"
   ]
  },
  {
   "cell_type": "code",
   "execution_count": 17,
   "id": "715e19ec",
   "metadata": {},
   "outputs": [
    {
     "data": {
      "text/plain": [
       "\"Understanding Artificial Intelligence and Its Impact on Humanity\\nIntroduction\\nArtificial Intelligence (AI) is the branch of computer science focused on building systems capable of\\nperforming tasks that typically require human intelligence. These tasks include learning, reasoning,\\nproblem-solving, understanding language, and perceiving the environment.\\nWhat Is Artificial Intelligence?\\nAt its core, AI refers to the development of algorithms and models that allow machines to mimic cognitive\\nfunctions. These systems are designed to process vast amounts of data, identify patterns, and make\\ndecisions with minimal human intervention. AI can be categorized into narrow AI (specialized in a single task)\\nand general AI (a theoretical form of AI that can perform any intellectual task a human can do).\\nReal-World Applications\\nAI is already transforming multiple sectors:\\n- Healthcare: Early disease detection, personalized treatment, and robotic surgeries.\\n- Finance: Fraud detection, risk analysis, and algorithmic trading.\\n- Transportation: Self-driving vehicles and traffic management systems.\\n- Customer Service: Virtual assistants and AI chatbots improving user experiences.\\nBenefits for Humanity\\nThe potential benefits of AI are vast:\\n- Efficiency: Automating routine tasks increases productivity and frees up human creativity.\\n- Accessibility: AI tools can break language barriers and provide personalized education.\\n- Safety: Predictive analytics in disaster response and public safety.\\n- Scientific Progress: Accelerated research in fields like genomics, climate science, and renewable energy.\\nChallenges and Considerations\\nWhile promising, AI raises ethical concerns such as privacy, algorithmic bias, job displacement, and the\\npotential for misuse. It's essential to ensure that AI systems are transparent, fair, and aligned with human\""
      ]
     },
     "execution_count": 17,
     "metadata": {},
     "output_type": "execute_result"
    }
   ],
   "source": [
    "pages[0].page_content"
   ]
  },
  {
   "cell_type": "code",
   "execution_count": 19,
   "id": "a3a4a45f",
   "metadata": {},
   "outputs": [
    {
     "name": "stdout",
     "output_type": "stream",
     "text": [
      "Understanding Artificial Intelligence and Its Impact on Humanity\n",
      "Introduction\n",
      "Artificial Intelligence (AI) is the branch of computer science focused on building systems capable of\n",
      "performing tasks that typically require human intelligence. These tasks include learning, reasoning,\n",
      "problem-solving, understanding language, and perceiving the environment.\n",
      "What Is Artificial Intelligence?\n",
      "At its core, AI refers to the development of algorithms and models that allow machines to mimic cognitive\n",
      "functions. These systems are designed to process vast amounts of data, identify patterns, and make\n",
      "decisions with minimal human intervention. AI can be categorized into narrow AI (specialized in a single task)\n",
      "and general AI (a theoretical form of AI that can perform any intellectual task a human can do).\n",
      "Real-World Applications\n",
      "AI is already transforming multiple sectors:\n",
      "- Healthcare: Early disease detection, personalized treatment, and robotic surgeries.\n",
      "- Finance: Fraud detection, risk analysis, and algorithmic trading.\n",
      "- Transportation: Self-driving vehicles and traffic management systems.\n",
      "- Customer Service: Virtual assistants and AI chatbots improving user experiences.\n",
      "Benefits for Humanity\n",
      "The potential benefits of AI are vast:\n",
      "- Efficiency: Automating routine tasks increases productivity and frees up human creativity.\n",
      "- Accessibility: AI tools can break language barriers and provide personalized education.\n",
      "- Safety: Predictive analytics in disaster response and public safety.\n",
      "- Scientific Progress: Accelerated research in fields like genomics, climate science, and renewable energy.\n",
      "Challenges and Considerations\n",
      "While promising, AI raises ethical concerns such as privacy, algorithmic bias, job displacement, and the\n",
      "potential for misuse. It's essential to ensure that AI systems are transparent, fair, and aligned with human\n"
     ]
    }
   ],
   "source": [
    "print(pages[0].page_content)"
   ]
  },
  {
   "cell_type": "code",
   "execution_count": 20,
   "id": "7dde9421",
   "metadata": {},
   "outputs": [],
   "source": [
    "from langchain_community.vectorstores import FAISS\n",
    "from langchain_openai import OpenAIEmbeddings\n"
   ]
  },
  {
   "cell_type": "code",
   "execution_count": 23,
   "id": "3e84aff6",
   "metadata": {},
   "outputs": [
    {
     "name": "stdout",
     "output_type": "stream",
     "text": [
      "1: Understanding Artificial Intelligence and Its Impact on Humanity\n",
      "values.\n",
      "Conclusion\n",
      "Artificial Intelligence is not just a futuristic concept - it is reshaping the world today. If guided responsibly, AI\n",
      "can be one of the most powerful tools to advance human well-being and solve global challenges.\n",
      "0: Understanding Artificial Intelligence and Its Impact on Humanity\n",
      "Introduction\n",
      "Artificial Intelligence (AI) is the branch of computer science focused on building systems capable of\n",
      "performing tasks that typically require human intelligence. These tasks include learning, reasoning,\n",
      "problem-solving, un\n"
     ]
    }
   ],
   "source": [
    "faiss_index = FAISS.from_documents(pages, OpenAIEmbeddings(api_key=api_key))\n",
    "docs = faiss_index.similarity_search(\"human\", k=2) \n",
    "\n",
    "for doc in docs:\n",
    "    print(str(doc.metadata[\"page\"]) + \": \" + doc.page_content[:300])"
   ]
  },
  {
   "cell_type": "code",
   "execution_count": 24,
   "id": "316ddefa",
   "metadata": {},
   "outputs": [],
   "source": [
    "from langchain_community.document_loaders.csv_loader import CSVLoader\n",
    "\n"
   ]
  },
  {
   "cell_type": "code",
   "execution_count": 39,
   "id": "2c1c7d04",
   "metadata": {},
   "outputs": [],
   "source": [
    "import src.config.paths as paths"
   ]
  },
  {
   "cell_type": "code",
   "execution_count": 43,
   "id": "2c8ee0f5",
   "metadata": {},
   "outputs": [
    {
     "data": {
      "text/plain": [
       "<module 'src.config.paths' from '/Users/jasonssdev/Dev/Learning/Platzi/platzi-langchain-ai-agent/src/config/paths.py'>"
      ]
     },
     "execution_count": 43,
     "metadata": {},
     "output_type": "execute_result"
    }
   ],
   "source": [
    "from src.config import paths\n",
    "import importlib\n",
    "importlib.reload(paths)"
   ]
  },
  {
   "cell_type": "code",
   "execution_count": 41,
   "id": "84179add",
   "metadata": {},
   "outputs": [
    {
     "data": {
      "text/plain": [
       "PosixPath('/Users/jasonssdev/Dev/Learning/Platzi/platzi-langchain-ai-agent/data/raw/csv/csvai.csv')"
      ]
     },
     "execution_count": 41,
     "metadata": {},
     "output_type": "execute_result"
    }
   ],
   "source": [
    "from src.config.paths import CSVAI_FILE\n",
    "\n",
    "CSVAI_FILE"
   ]
  },
  {
   "cell_type": "code",
   "execution_count": 42,
   "id": "109c4ada",
   "metadata": {},
   "outputs": [
    {
     "name": "stdout",
     "output_type": "stream",
     "text": [
      "page_content='AI_Field: Machine Learning\n",
      "Description: Algorithms that learn from data to make predictions or decisions.\n",
      "Popular_Library: scikit-learn\n",
      "Real_World_Application: Spam detection, credit scoring' metadata={'source': '/Users/jasonssdev/Dev/Learning/Platzi/platzi-langchain-ai-agent/data/raw/csv/csvai.csv', 'row': 0}\n",
      "page_content='AI_Field: Natural Language Processing\n",
      "Description: Enables computers to understand and generate human language.\n",
      "Popular_Library: spaCy\n",
      "Real_World_Application: Chatbots, translation apps' metadata={'source': '/Users/jasonssdev/Dev/Learning/Platzi/platzi-langchain-ai-agent/data/raw/csv/csvai.csv', 'row': 1}\n"
     ]
    }
   ],
   "source": [
    "csv_path = CSVAI_FILE\n",
    "\n",
    "loader = CSVLoader(file_path=csv_path)\n",
    "data = loader.load()\n",
    "\n",
    "for record in data[:2]:\n",
    "    print(record)"
   ]
  },
  {
   "cell_type": "code",
   "execution_count": null,
   "id": "c45a455b",
   "metadata": {},
   "outputs": [],
   "source": []
  }
 ],
 "metadata": {
  "kernelspec": {
   "display_name": "ai-py3.12",
   "language": "python",
   "name": "python3"
  },
  "language_info": {
   "codemirror_mode": {
    "name": "ipython",
    "version": 3
   },
   "file_extension": ".py",
   "mimetype": "text/x-python",
   "name": "python",
   "nbconvert_exporter": "python",
   "pygments_lexer": "ipython3",
   "version": "3.11.12"
  }
 },
 "nbformat": 4,
 "nbformat_minor": 5
}
