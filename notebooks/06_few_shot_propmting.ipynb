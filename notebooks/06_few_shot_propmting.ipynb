{
 "cells": [
  {
   "cell_type": "code",
   "execution_count": 1,
   "id": "11fce1c0",
   "metadata": {},
   "outputs": [],
   "source": [
    "from langchain_openai import ChatOpenAI\n",
    "from src.config.config import settings"
   ]
  },
  {
   "cell_type": "code",
   "execution_count": 2,
   "id": "e9a86d30",
   "metadata": {},
   "outputs": [],
   "source": [
    "api_key = settings['openai']\n",
    "model = 'gpt-4o-mini'\n",
    "llm = ChatOpenAI(api_key=api_key,\n",
    "                model=model,\n",
    "                temperature=0,\n",
    "                max_tokens=100)"
   ]
  },
  {
   "cell_type": "code",
   "execution_count": 3,
   "id": "6b7b88d1",
   "metadata": {},
   "outputs": [],
   "source": [
    "from langchain_core.prompts import ChatPromptTemplate, FewShotChatMessagePromptTemplate\n",
    "\n",
    "examples = [{'input': '2 🦜 2', 'output': '4'},\n",
    "            {'input': '2 🦜 3', 'output': '5'}]"
   ]
  },
  {
   "cell_type": "code",
   "execution_count": 4,
   "id": "5224fdab",
   "metadata": {},
   "outputs": [],
   "source": [
    "example_prompt = ChatPromptTemplate(\n",
    "    [('human', '{input}'),\n",
    "    ('ai', '{output}')]\n",
    ")"
   ]
  },
  {
   "cell_type": "code",
   "execution_count": 5,
   "id": "d1fb6374",
   "metadata": {},
   "outputs": [],
   "source": [
    "few_shot_prompt = FewShotChatMessagePromptTemplate(\n",
    "    example_prompt=example_prompt,\n",
    "    examples=examples\n",
    ")"
   ]
  },
  {
   "cell_type": "code",
   "execution_count": 6,
   "id": "5e3de95a",
   "metadata": {},
   "outputs": [
    {
     "name": "stdout",
     "output_type": "stream",
     "text": [
      "<bound method ChatPromptValue.to_messages of ChatPromptValue(messages=[HumanMessage(content='2 🦜 2', additional_kwargs={}, response_metadata={}), AIMessage(content='4', additional_kwargs={}, response_metadata={}), HumanMessage(content='2 🦜 3', additional_kwargs={}, response_metadata={}), AIMessage(content='5', additional_kwargs={}, response_metadata={})])>\n"
     ]
    }
   ],
   "source": [
    "print(few_shot_prompt.invoke({}).to_messages)"
   ]
  },
  {
   "cell_type": "code",
   "execution_count": 7,
   "id": "1a5e842b",
   "metadata": {},
   "outputs": [],
   "source": [
    "main_prompt = ChatPromptTemplate.from_messages(\n",
    "    [('system', 'Eres un mago de las matematicas.'),\n",
    "    few_shot_prompt,\n",
    "    ('human', '{input}')\n",
    "    ]\n",
    ")"
   ]
  },
  {
   "cell_type": "code",
   "execution_count": 8,
   "id": "dc424acf",
   "metadata": {},
   "outputs": [],
   "source": [
    "chain = main_prompt | llm\n"
   ]
  },
  {
   "cell_type": "code",
   "execution_count": 15,
   "id": "ab9e3a23",
   "metadata": {},
   "outputs": [
    {
     "data": {
      "text/plain": [
       "'9 🦜 9 es igual a 18.'"
      ]
     },
     "execution_count": 15,
     "metadata": {},
     "output_type": "execute_result"
    }
   ],
   "source": [
    "chain.invoke({'input': 'Cuanto es 9 🦜 9'}).content"
   ]
  },
  {
   "cell_type": "code",
   "execution_count": null,
   "id": "318bfa13",
   "metadata": {},
   "outputs": [],
   "source": []
  }
 ],
 "metadata": {
  "kernelspec": {
   "display_name": "ai-py3.12",
   "language": "python",
   "name": "python3"
  },
  "language_info": {
   "codemirror_mode": {
    "name": "ipython",
    "version": 3
   },
   "file_extension": ".py",
   "mimetype": "text/x-python",
   "name": "python",
   "nbconvert_exporter": "python",
   "pygments_lexer": "ipython3",
   "version": "3.11.12"
  }
 },
 "nbformat": 4,
 "nbformat_minor": 5
}
