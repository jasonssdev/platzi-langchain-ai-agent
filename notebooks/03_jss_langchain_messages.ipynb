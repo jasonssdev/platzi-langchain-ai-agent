{
 "cells": [
  {
   "cell_type": "code",
   "execution_count": 6,
   "id": "deb6fd18",
   "metadata": {},
   "outputs": [],
   "source": [
    "from langchain_openai import ChatOpenAI\n",
    "from src.config.config import settings\n",
    "from langchain_core.messages import AIMessage, HumanMessage, SystemMessage\n",
    "from langchain_core.messages import trim_messages"
   ]
  },
  {
   "cell_type": "code",
   "execution_count": 5,
   "id": "6da80992",
   "metadata": {},
   "outputs": [],
   "source": [
    "api_key = settings['openai']\n",
    "model = 'gpt-4o-mini'\n",
    "llm = ChatOpenAI(api_key=api_key, model=model)"
   ]
  },
  {
   "cell_type": "code",
   "execution_count": 7,
   "id": "e8cdbbf1",
   "metadata": {},
   "outputs": [],
   "source": [
    "messages = [\n",
    "    SystemMessage(content='Eres un asistente útil.'),\n",
    "    HumanMessage(content='Me ayudas a organizar las tareas del dia?'),\n",
    "    AIMessage(content='Claro! Que tareas necesitas completar hoy?'),\n",
    "    HumanMessage(\n",
    "        content=\n",
    "        'Tengo que enviar un correo importante, hacer ejercicio y estudiar para un examen'\n",
    "    ),\n",
    "    AIMessage(\n",
    "        content=\n",
    "        'Aquí tienes tu lista de tareas: 1. Enviar correo. 2. Hacer ejercicio. 3. Estudiar para el examen'\n",
    "    )\n",
    "]\n"
   ]
  },
  {
   "cell_type": "code",
   "execution_count": 9,
   "id": "8fd28de8",
   "metadata": {},
   "outputs": [
    {
     "name": "stdout",
     "output_type": "stream",
     "text": [
      "Aquí tienes tu lista de tareas organizada para el día:\n",
      "\n",
      "1. **Enviar correo importante**\n",
      "   - Define el contenido del correo y asegúrate de tener todos los documentos adjuntos que necesites.\n",
      "   - Establece un horario específico para enviarlo, preferiblemente en la mañana para tener el resto del día libre.\n",
      "\n",
      "2. **Hacer ejercicio**\n",
      "   - Decide qué tipo de ejercicio harás (correr, yoga, gimnasio, etc.).\n",
      "   - Programa una hora específica para tu rutina de ejercicio, quizás después de enviar el correo para mantener la energía.\n",
      "\n",
      "3. **Estudiar para un examen**\n",
      "   - Organiza el material que necesitas estudiar.\n",
      "   - Establece un tiempo específico para estudiar en bloques (por ejemplo, 25-30 minutos de estudio y luego 5 minutos de descanso).\n",
      "   \n",
      "### Ejemplo de horario:\n",
      "- **09:00 - 09:30**: Enviar correo importante.\n",
      "- **10:00 - 11:00**: Hacer ejercicio.\n",
      "- **11:30 - 13:00**: Estudiar para el examen.\n",
      "\n",
      "Recuerda tomar descansos y mantenerte hidratado. ¿Te gustaría ajustar algo o añadir más tareas?\n"
     ]
    }
   ],
   "source": [
    "response = llm.invoke(messages)\n",
    "print(response.content)"
   ]
  },
  {
   "cell_type": "code",
   "execution_count": 10,
   "id": "6a14b70e",
   "metadata": {},
   "outputs": [
    {
     "data": {
      "text/plain": [
       "[SystemMessage(content='Eres un asistente útil.', additional_kwargs={}, response_metadata={}),\n",
       " HumanMessage(content='Me ayudas a organizar las tareas del dia?', additional_kwargs={}, response_metadata={}),\n",
       " AIMessage(content='Claro! Que tareas necesitas completar hoy?', additional_kwargs={}, response_metadata={}),\n",
       " HumanMessage(content='Tengo que enviar un correo importante, hacer ejercicio y estudiar para un examen', additional_kwargs={}, response_metadata={}),\n",
       " AIMessage(content='Aquí tienes tu lista de tareas: 1. Enviar correo. 2. Hacer ejercicio. 3. Estudiar para el examen', additional_kwargs={}, response_metadata={})]"
      ]
     },
     "execution_count": 10,
     "metadata": {},
     "output_type": "execute_result"
    }
   ],
   "source": [
    "trim_messages(\n",
    "    messages,\n",
    "    max_tokens=100,\n",
    "    strategy='last',\n",
    "    token_counter=ChatOpenAI(model=model),\n",
    "    include_system = True\n",
    ")"
   ]
  },
  {
   "cell_type": "code",
   "execution_count": null,
   "id": "53296115",
   "metadata": {},
   "outputs": [],
   "source": []
  }
 ],
 "metadata": {
  "kernelspec": {
   "display_name": "ai-py3.12",
   "language": "python",
   "name": "python3"
  },
  "language_info": {
   "codemirror_mode": {
    "name": "ipython",
    "version": 3
   },
   "file_extension": ".py",
   "mimetype": "text/x-python",
   "name": "python",
   "nbconvert_exporter": "python",
   "pygments_lexer": "ipython3",
   "version": "3.11.12"
  }
 },
 "nbformat": 4,
 "nbformat_minor": 5
}
