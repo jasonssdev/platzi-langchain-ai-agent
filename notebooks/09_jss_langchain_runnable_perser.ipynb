{
 "cells": [
  {
   "cell_type": "code",
   "execution_count": 1,
   "id": "888346b7",
   "metadata": {},
   "outputs": [],
   "source": [
    "from langchain_openai import ChatOpenAI\n",
    "from src.config.config import settings"
   ]
  },
  {
   "cell_type": "code",
   "execution_count": 2,
   "id": "4cb782d5",
   "metadata": {},
   "outputs": [],
   "source": [
    "api_key = settings['openai']\n",
    "model = 'gpt-4o-mini'\n",
    "llm = ChatOpenAI(api_key=api_key,\n",
    "                model=model)"
   ]
  },
  {
   "cell_type": "code",
   "execution_count": 4,
   "id": "e7dc9ea6",
   "metadata": {},
   "outputs": [],
   "source": [
    "from langchain_core.runnables import RunnableLambda\n",
    "\n",
    "sequence = RunnableLambda(lambda x: x +1 ) | RunnableLambda(lambda x: x * 2 )"
   ]
  },
  {
   "cell_type": "code",
   "execution_count": 5,
   "id": "270e87dc",
   "metadata": {},
   "outputs": [
    {
     "data": {
      "text/plain": [
       "22"
      ]
     },
     "execution_count": 5,
     "metadata": {},
     "output_type": "execute_result"
    }
   ],
   "source": [
    "sequence.invoke(10)"
   ]
  },
  {
   "cell_type": "code",
   "execution_count": 6,
   "id": "9e27df18",
   "metadata": {},
   "outputs": [],
   "source": [
    "sequence = RunnableLambda(lambda x: x +1 ) | {\n",
    "    'index_1' : RunnableLambda(lambda x: x * 2 ),\n",
    "    'index_2' : RunnableLambda(lambda x: x * 5 )\n",
    "}"
   ]
  },
  {
   "cell_type": "code",
   "execution_count": 7,
   "id": "3177e70e",
   "metadata": {},
   "outputs": [
    {
     "data": {
      "text/plain": [
       "{'index_1': 22, 'index_2': 55}"
      ]
     },
     "execution_count": 7,
     "metadata": {},
     "output_type": "execute_result"
    }
   ],
   "source": [
    "sequence.invoke(10)"
   ]
  },
  {
   "cell_type": "code",
   "execution_count": 8,
   "id": "53196f50",
   "metadata": {},
   "outputs": [],
   "source": [
    "from langchain_core.output_parsers import JsonOutputParser\n",
    "from langchain_core.prompts import PromptTemplate"
   ]
  },
  {
   "cell_type": "code",
   "execution_count": 9,
   "id": "be7782e2",
   "metadata": {},
   "outputs": [],
   "source": [
    "joke_query = 'Tell me a joke'"
   ]
  },
  {
   "cell_type": "code",
   "execution_count": 10,
   "id": "a8fe1223",
   "metadata": {},
   "outputs": [],
   "source": [
    "parser = JsonOutputParser()"
   ]
  },
  {
   "cell_type": "code",
   "execution_count": 11,
   "id": "7549b201",
   "metadata": {},
   "outputs": [],
   "source": [
    "prompt = PromptTemplate(\n",
    "    template = 'Answer the user query. \\n{format_instructions}\\n{query}',\n",
    "    input_variables = ['query'],\n",
    "    partial_variables = { 'format_instructions': parser.get_format_instructions()}\n",
    ")"
   ]
  },
  {
   "cell_type": "code",
   "execution_count": 12,
   "id": "b6f72a30",
   "metadata": {},
   "outputs": [],
   "source": [
    "chain = prompt | llm | parser"
   ]
  },
  {
   "cell_type": "code",
   "execution_count": 13,
   "id": "d7711388",
   "metadata": {},
   "outputs": [],
   "source": [
    "response = chain.invoke({\"query\": joke_query})"
   ]
  },
  {
   "cell_type": "code",
   "execution_count": 14,
   "id": "a47566d2",
   "metadata": {},
   "outputs": [
    {
     "name": "stdout",
     "output_type": "stream",
     "text": [
      "{}\n",
      "{'joke': ''}\n",
      "{'joke': 'Why'}\n",
      "{'joke': \"Why don't\"}\n",
      "{'joke': \"Why don't scientists\"}\n",
      "{'joke': \"Why don't scientists trust\"}\n",
      "{'joke': \"Why don't scientists trust atoms\"}\n",
      "{'joke': \"Why don't scientists trust atoms?\"}\n",
      "{'joke': \"Why don't scientists trust atoms? Because\"}\n",
      "{'joke': \"Why don't scientists trust atoms? Because they\"}\n",
      "{'joke': \"Why don't scientists trust atoms? Because they make\"}\n",
      "{'joke': \"Why don't scientists trust atoms? Because they make up\"}\n",
      "{'joke': \"Why don't scientists trust atoms? Because they make up everything\"}\n",
      "{'joke': \"Why don't scientists trust atoms? Because they make up everything!\"}\n"
     ]
    }
   ],
   "source": [
    "import time\n",
    "for s in chain.stream({\"query\": joke_query}):\n",
    "    print(s)\n",
    "    time.sleep(0.3)"
   ]
  },
  {
   "cell_type": "code",
   "execution_count": 16,
   "id": "41b6e7c2",
   "metadata": {},
   "outputs": [
    {
     "name": "stdout",
     "output_type": "stream",
     "text": [
      "Why don't scientists trust atoms? \n",
      "\n",
      "Because they make up everything!"
     ]
    }
   ],
   "source": [
    "chunks = []\n",
    "async for chunk in llm.astream(joke_query):\n",
    "    chunks.append(chunk)\n",
    "    print(chunk.content, end='', flush=True)\n",
    "    time.sleep(0.3)"
   ]
  },
  {
   "cell_type": "code",
   "execution_count": null,
   "id": "4b9d6e36",
   "metadata": {},
   "outputs": [],
   "source": []
  }
 ],
 "metadata": {
  "kernelspec": {
   "display_name": "ai-py3.12",
   "language": "python",
   "name": "python3"
  },
  "language_info": {
   "codemirror_mode": {
    "name": "ipython",
    "version": 3
   },
   "file_extension": ".py",
   "mimetype": "text/x-python",
   "name": "python",
   "nbconvert_exporter": "python",
   "pygments_lexer": "ipython3",
   "version": "3.11.12"
  }
 },
 "nbformat": 4,
 "nbformat_minor": 5
}
