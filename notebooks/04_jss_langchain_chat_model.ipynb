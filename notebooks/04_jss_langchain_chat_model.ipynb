{
 "cells": [
  {
   "cell_type": "code",
   "execution_count": 1,
   "id": "d4b78a2c",
   "metadata": {},
   "outputs": [],
   "source": [
    "from langchain_openai import ChatOpenAI\n",
    "from src.config.config import settings"
   ]
  },
  {
   "cell_type": "code",
   "execution_count": 6,
   "id": "cdd8761f",
   "metadata": {},
   "outputs": [],
   "source": [
    "api_key = settings['openai']\n",
    "model = 'gpt-4o-mini'\n",
    "llm = ChatOpenAI(api_key=api_key,\n",
    "                model=model,\n",
    "                temperature=0,\n",
    "                max_tokens=100)"
   ]
  },
  {
   "cell_type": "code",
   "execution_count": 4,
   "id": "401e69d7",
   "metadata": {},
   "outputs": [],
   "source": [
    "messages = [('system',\n",
    "            'Eres un profesor de programacion en python.Enseña a programar'),\n",
    "            ('human',\n",
    "            'Quiero instalar python en macos')]"
   ]
  },
  {
   "cell_type": "code",
   "execution_count": 7,
   "id": "88c2b993",
   "metadata": {},
   "outputs": [
    {
     "name": "stdout",
     "output_type": "stream",
     "text": [
      "Instalar Python en macOS es un proceso bastante sencillo. Aquí te dejo una guía paso a paso para hacerlo:\n",
      "\n",
      "### Opción 1: Usar Homebrew (recomendado)\n",
      "\n",
      "Homebrew es un gestor de paquetes para macOS que facilita la instalación de software.\n",
      "\n",
      "1. **Instalar Homebrew** (si no lo tienes instalado):\n",
      "   - Abre la Terminal (puedes encontrarla en Aplicaciones > Utilidades > Terminal).\n",
      "   - Copia y pega el siguiente comando y\n"
     ]
    }
   ],
   "source": [
    "ai_message = llm.invoke(messages)\n",
    "print(ai_message.content)"
   ]
  },
  {
   "cell_type": "code",
   "execution_count": null,
   "id": "e410dd3f",
   "metadata": {},
   "outputs": [],
   "source": []
  }
 ],
 "metadata": {
  "kernelspec": {
   "display_name": "ai-py3.12",
   "language": "python",
   "name": "python3"
  },
  "language_info": {
   "codemirror_mode": {
    "name": "ipython",
    "version": 3
   },
   "file_extension": ".py",
   "mimetype": "text/x-python",
   "name": "python",
   "nbconvert_exporter": "python",
   "pygments_lexer": "ipython3",
   "version": "3.11.12"
  }
 },
 "nbformat": 4,
 "nbformat_minor": 5
}
