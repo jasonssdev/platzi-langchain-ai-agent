{
 "cells": [
  {
   "cell_type": "code",
   "execution_count": 7,
   "id": "7bf852c4",
   "metadata": {},
   "outputs": [],
   "source": [
    "from langchain_openai import ChatOpenAI\n",
    "from src.config.config import settings\n",
    "from src.config.paths import WEBAI_FILE"
   ]
  },
  {
   "cell_type": "code",
   "execution_count": 8,
   "id": "c6543041",
   "metadata": {},
   "outputs": [],
   "source": [
    "api_key = settings['openai']\n",
    "model = 'gpt-4o-mini'\n",
    "llm = ChatOpenAI(api_key=api_key,\n",
    "                model=model)"
   ]
  },
  {
   "cell_type": "code",
   "execution_count": null,
   "id": "347e106f",
   "metadata": {},
   "outputs": [],
   "source": [
    "from langchain_community.document_loaders import BSHTMLLoader"
   ]
  },
  {
   "cell_type": "code",
   "execution_count": 14,
   "id": "68f7c103",
   "metadata": {},
   "outputs": [],
   "source": [
    "file_path = WEBAI_FILE"
   ]
  },
  {
   "cell_type": "code",
   "execution_count": 17,
   "id": "95538890",
   "metadata": {},
   "outputs": [
    {
     "name": "stdout",
     "output_type": "stream",
     "text": [
      "[Document(metadata={'source': '/Users/jasonssdev/Dev/Learning/Platzi/platzi-langchain-ai-agent/data/raw/html/webai.html', 'title': 'Introduction to Artificial Intelligence'}, page_content='\\n\\n\\n\\n\\nIntroduction to Artificial Intelligence\\n\\n\\n\\n\\n\\nArtificial Intelligence\\nWhat is AI?\\n\\n            Artificial Intelligence (AI) is the simulation of human intelligence in machines\\n            that are programmed to think, learn, and solve problems. It encompasses a wide\\n            range of technologies including machine learning, natural language processing, and robotics.\\n        \\nBenefits of AI for Humanity\\n\\n            AI holds the potential to revolutionize healthcare, improve education access,\\n            enhance transportation systems, and accelerate scientific discoveries.\\n            By automating repetitive tasks, it allows humans to focus on creative and strategic work.\\n        \\n\\n            Additionally, AI can help address global challenges such as climate change,\\n            resource management, and disease prevention by analyzing large-scale data efficiently.\\n        \\nLearn More\\n\\nAI on Wikipedia\\nIBM AI\\n                    Overview\\nGoogle AI Projects\\n\\n\\n\\n\\n')]\n"
     ]
    }
   ],
   "source": [
    "loader = BSHTMLLoader(file_path, bs_kwargs={\"features\": \"html.parser\"})\n",
    "data = loader.load()\n",
    "\n",
    "print(data)"
   ]
  },
  {
   "cell_type": "code",
   "execution_count": null,
   "id": "5f5d33c1",
   "metadata": {},
   "outputs": [],
   "source": []
  }
 ],
 "metadata": {
  "kernelspec": {
   "display_name": "ai-py3.12",
   "language": "python",
   "name": "python3"
  },
  "language_info": {
   "codemirror_mode": {
    "name": "ipython",
    "version": 3
   },
   "file_extension": ".py",
   "mimetype": "text/x-python",
   "name": "python",
   "nbconvert_exporter": "python",
   "pygments_lexer": "ipython3",
   "version": "3.11.12"
  }
 },
 "nbformat": 4,
 "nbformat_minor": 5
}
