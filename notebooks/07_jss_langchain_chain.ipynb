{
 "cells": [
  {
   "cell_type": "code",
   "execution_count": 1,
   "id": "4ddec0b0",
   "metadata": {},
   "outputs": [],
   "source": [
    "from langchain_openai import ChatOpenAI\n",
    "from src.config.config import settings"
   ]
  },
  {
   "cell_type": "code",
   "execution_count": 11,
   "id": "b00e81b1",
   "metadata": {},
   "outputs": [],
   "source": [
    "api_key = settings['openai']\n",
    "model = 'gpt-4o-mini'\n",
    "llm = ChatOpenAI(api_key=api_key,\n",
    "                model=model)"
   ]
  },
  {
   "cell_type": "code",
   "execution_count": 3,
   "id": "4780e650",
   "metadata": {},
   "outputs": [],
   "source": [
    "from langchain_core.prompts import ChatPromptTemplate"
   ]
  },
  {
   "cell_type": "code",
   "execution_count": 12,
   "id": "9c42ec99",
   "metadata": {},
   "outputs": [],
   "source": [
    "\n",
    "prompt_template = ChatPromptTemplate.from_messages([\n",
    "    ('system', \"Traduce lo siguiente al {language}: \"),\n",
    "    ('human', '{text}')\n",
    "])"
   ]
  },
  {
   "cell_type": "code",
   "execution_count": 5,
   "id": "cb44c659",
   "metadata": {},
   "outputs": [],
   "source": [
    "from langchain_core.output_parsers import StrOutputParser"
   ]
  },
  {
   "cell_type": "code",
   "execution_count": 13,
   "id": "8814f2cf",
   "metadata": {},
   "outputs": [],
   "source": [
    "parser = StrOutputParser()\n",
    "\n",
    "chain = prompt_template | llm | parser"
   ]
  },
  {
   "cell_type": "code",
   "execution_count": 17,
   "id": "ca4d2916",
   "metadata": {},
   "outputs": [],
   "source": [
    "response = chain.invoke({'language': 'English', 'text': 'Te quiero'})"
   ]
  },
  {
   "cell_type": "code",
   "execution_count": 18,
   "id": "5fa2634d",
   "metadata": {},
   "outputs": [
    {
     "name": "stdout",
     "output_type": "stream",
     "text": [
      "I love you.\n"
     ]
    }
   ],
   "source": [
    "print(response)"
   ]
  },
  {
   "cell_type": "code",
   "execution_count": null,
   "id": "03e6e104",
   "metadata": {},
   "outputs": [],
   "source": []
  }
 ],
 "metadata": {
  "kernelspec": {
   "display_name": "ai-py3.12",
   "language": "python",
   "name": "python3"
  },
  "language_info": {
   "codemirror_mode": {
    "name": "ipython",
    "version": 3
   },
   "file_extension": ".py",
   "mimetype": "text/x-python",
   "name": "python",
   "nbconvert_exporter": "python",
   "pygments_lexer": "ipython3",
   "version": "3.11.12"
  }
 },
 "nbformat": 4,
 "nbformat_minor": 5
}
